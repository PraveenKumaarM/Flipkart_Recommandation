{
 "cells": [
  {
   "cell_type": "code",
   "execution_count": 10,
   "metadata": {},
   "outputs": [
    {
     "ename": "ModuleNotFoundError",
     "evalue": "No module named 'pandas'",
     "output_type": "error",
     "traceback": [
      "\u001b[0;31m---------------------------------------------------------------------------\u001b[0m",
      "\u001b[0;31mModuleNotFoundError\u001b[0m                       Traceback (most recent call last)",
      "Cell \u001b[0;32mIn[10], line 1\u001b[0m\n\u001b[0;32m----> 1\u001b[0m \u001b[38;5;28;01mimport\u001b[39;00m \u001b[38;5;21;01mpandas\u001b[39;00m \u001b[38;5;28;01mas\u001b[39;00m \u001b[38;5;21;01mpd\u001b[39;00m\n\u001b[1;32m      2\u001b[0m \u001b[38;5;28;01mimport\u001b[39;00m \u001b[38;5;21;01mstreamlit\u001b[39;00m \u001b[38;5;28;01mas\u001b[39;00m \u001b[38;5;21;01mst\u001b[39;00m\n\u001b[1;32m      3\u001b[0m \u001b[38;5;28;01mfrom\u001b[39;00m \u001b[38;5;21;01mlangchain_community\u001b[39;00m\u001b[38;5;21;01m.\u001b[39;00m\u001b[38;5;21;01mllms\u001b[39;00m \u001b[38;5;28;01mimport\u001b[39;00m Cohere\n",
      "\u001b[0;31mModuleNotFoundError\u001b[0m: No module named 'pandas'"
     ]
    }
   ],
   "source": [
    "import pandas as pd\n",
    "import streamlit as st\n",
    "from langchain_community.llms import Cohere\n",
    "import cohere\n",
    "\n",
    "# Load sentiment data\n",
    "sentiment_data = pd.read_csv(\"/Users/praveenkumarm/Desktop/Guvi_Projects/Ecom_Recommandation/FlipKart_Dataset_with_Sentiment_Analysis.csv\")\n",
    "\n",
    "# Initialize Cohere (Replace with your Cohere API Key)\n",
    "cohere_api_key = 'ek2ZNOblzOhxsBTxR0AkSWIqaSeqVeqolsXQviQa'\n",
    "co = cohere.Client(cohere_api_key)\n",
    "\n",
    "# Function to recommend products based on user query\n",
    "def recommend_products(query, sentiment_data):\n",
    "    # Analyze the user's input using Cohere\n",
    "    response = co.generate(prompt=query, model='command-xlarge-nightly')\n",
    "    \n",
    "    # Process response (you can also use a custom NLP method if needed)\n",
    "    search_keywords = response.generations[0].text.strip().split()\n",
    "    \n",
    "    # Filter sentiment data based on query analysis (e.g., find related product names or positive reviews)\n",
    "    recommendations = sentiment_data[sentiment_data['Cleaned_Review'].str.contains('|'.join(search_keywords))]\n",
    "    \n",
    "    # Sort products by sentiment score\n",
    "    recommendations = recommendations.sort_values(by='TextBlob_Sentiment_Score', ascending=False)\n",
    "    \n",
    "    # Return top 5 products (Name and Price only)\n",
    "    return recommendations[['Product Name', 'Price']].head(5)\n",
    "\n",
    "# Set page config\n",
    "st.set_page_config(page_title=\"Flipkart Product Recommendation\", layout=\"centered\")\n",
    "\n",
    "# Streamlit App Interface\n",
    "st.markdown(\"<h1 style='text-align: center; color: #00BFFF;'>📱 Flipkart Product Recommendation Engine</h1>\", unsafe_allow_html=True)\n",
    "st.markdown(\"<h3 style='text-align: center; color: #FFFFFF;'>Find the best-rated phones based on user reviews and sentiment analysis!</h3>\", unsafe_allow_html=True)\n",
    "\n",
    "# Add a relevant phone banner image for better UI\n",
    "st.image(\"https://fs.npstatic.com/userfiles/7687254/image/Best_Smartphones_October_2023-w810h462.jpg\", use_column_width=True)\n",
    "\n",
    "# User input section with styled markdown\n",
    "st.markdown(\"<h4 style='color: #800000;'>🎯 Enter your preferences to get the best phone recommendations:</h4>\", unsafe_allow_html=True)  # Maroon color\n",
    "st.markdown(\"<p style='color: #FAEBD7;'>For example: <b>best camera phone</b>, <b>lightweight</b>, <b>long battery life</b>, etc.</p>\", unsafe_allow_html=True)  # Linen color\n",
    "\n",
    "# Add disclaimer about input length\n",
    "st.markdown(\"<p style='color: #FF4500;'>⚠️ Disclaimer: Please limit your input to 100 words or less.</p>\", unsafe_allow_html=True)\n",
    "\n",
    "# Create a container for input elements\n",
    "with st.container():\n",
    "    query = st.text_area(\"Describe your ideal phone features or type:\", height=100)\n",
    "    recommend_button = st.button(\"🔍 Recommend\")\n",
    "\n",
    "# Show recommendations when the button is clicked\n",
    "if recommend_button and query:\n",
    "    recommended_products = recommend_products(query, sentiment_data)\n",
    "    \n",
    "    if not recommended_products.empty:\n",
    "        st.markdown(\"<h3 style='color: #32CD32;'>🎉 Top 5 Recommended Phones:</h3>\", unsafe_allow_html=True)\n",
    "        \n",
    "        # Display product name and price with colored text in a structured format\n",
    "        for idx, row in recommended_products.iterrows():\n",
    "            st.markdown(f\"<div style='border: 1px solid #00BFFF; border-radius: 10px; padding: 10px; margin: 10px 0; background-color: #1E1E1E;'><p style='font-size:18px; color:#FFFFFF;'><b>{row['Product Name']}</b> - <span style='color:#FF4500;'>₹{row['Price']}</span></p></div>\", unsafe_allow_html=True)\n",
    "    else:\n",
    "        st.warning(\"No matching products found. Please try a different query.\")\n",
    "\n",
    "# Add the new footer with your name\n",
    "st.markdown(\"<p style='text-align: center; font-size:14px; color:gray;'>Flipkart Product Recommendation Engine by <b>Praveen Kumar M</b></p>\", unsafe_allow_html=True)\n",
    "\n",
    "\n",
    "\n",
    "#streamlit run /Users/praveenkumarm/Flipkart_Recommandation/Flipkart_Recommandation/venv/lib/python3.12/site-packages/ipykernel_launcher.py"
   ]
  }
 ],
 "metadata": {
  "kernelspec": {
   "display_name": "venv",
   "language": "python",
   "name": "python3"
  },
  "language_info": {
   "codemirror_mode": {
    "name": "ipython",
    "version": 3
   },
   "file_extension": ".py",
   "mimetype": "text/x-python",
   "name": "python",
   "nbconvert_exporter": "python",
   "pygments_lexer": "ipython3",
   "version": "3.12.6"
  }
 },
 "nbformat": 4,
 "nbformat_minor": 2
}
